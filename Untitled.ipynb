{
 "cells": [
  {
   "cell_type": "code",
   "execution_count": 2,
   "metadata": {},
   "outputs": [
    {
     "name": "stdout",
     "output_type": "stream",
     "text": [
      "Accuracy:84/85 = 0.9882352941176471\n"
     ]
    }
   ],
   "source": [
    "import logisticreg\n",
    "import csv\n",
    "import numpy as np\n",
    "\n",
    "\n",
    "\n",
    "n_test = 85\n",
    "X = []\n",
    "y = []\n",
    "with open ('iris.data') as fp:\n",
    "    for row in csv.reader(fp):\n",
    "        if row[4] == \"Iris-setosa\":\n",
    "            y.append(0)\n",
    "        else:\n",
    "            y.append(1)\n",
    "        X.append(row[:4])\n",
    "\n",
    "     \n",
    "y = np.array(y,dtype = np.float64)\n",
    "X = np.array(X,dtype = np.float64)\n",
    "\n",
    "#100~150行目のデータを削除し、二値データに変換\n",
    "y = np.delete(y,slice(100,150),0)\n",
    "X = np.delete(X,slice(100,150),0)\n",
    "\n",
    "#yをreshape\n",
    "y = np.reshape(y,(100,1))\n",
    "#リストの結合\n",
    "data = np.block([y,X])\n",
    "\n",
    "#行をシャッフル\n",
    "np.random.shuffle(data)\n",
    "\n",
    "#リストの分割\n",
    "y, X = np.hsplit(data, [1])\n",
    "\n",
    "#yを再度reshape\n",
    "y = np.reshape(y,(100,))\n",
    "\n",
    "\n",
    "y = np.array(y,dtype = np.float64)\n",
    "X = np.array(X,dtype = np.float64)\n",
    "y_train = y[:-n_test]\n",
    "X_train = X[:-n_test]\n",
    "y_test = y[-n_test:]\n",
    "X_test = X[-n_test:]\n",
    "model = logisticreg.LogisticRegression()\n",
    "model.fit(X_train,y_train)\n",
    "\n",
    "y_predict = model.predict(X_test)\n",
    "n_hits  = (y_test == y_predict).sum()\n",
    "print('Accuracy:{}/{} = {}'.format(n_hits,n_test,\n",
    "                                   n_hits/n_test))"
   ]
  },
  {
   "cell_type": "code",
   "execution_count": null,
   "metadata": {},
   "outputs": [],
   "source": []
  }
 ],
 "metadata": {
  "kernelspec": {
   "display_name": "Python 3",
   "language": "python",
   "name": "python3"
  },
  "language_info": {
   "codemirror_mode": {
    "name": "ipython",
    "version": 3
   },
   "file_extension": ".py",
   "mimetype": "text/x-python",
   "name": "python",
   "nbconvert_exporter": "python",
   "pygments_lexer": "ipython3",
   "version": "3.8.5"
  }
 },
 "nbformat": 4,
 "nbformat_minor": 4
}
